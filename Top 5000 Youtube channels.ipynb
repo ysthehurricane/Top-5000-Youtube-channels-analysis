{
 "cells": [
  {
   "cell_type": "markdown",
   "metadata": {},
   "source": [
    "## Import essential libraries"
   ]
  },
  {
   "cell_type": "code",
   "execution_count": 121,
   "metadata": {},
   "outputs": [],
   "source": [
    "import pandas as pd\n",
    "import numpy as np\n",
    "import matplotlib.pyplot as plt\n",
    "import seaborn as sb\n",
    "\n",
    "%matplotlib inline"
   ]
  },
  {
   "cell_type": "markdown",
   "metadata": {},
   "source": [
    "## Load the dataset"
   ]
  },
  {
   "cell_type": "code",
   "execution_count": 3,
   "metadata": {},
   "outputs": [
    {
     "data": {
      "text/html": [
       "<div>\n",
       "<style scoped>\n",
       "    .dataframe tbody tr th:only-of-type {\n",
       "        vertical-align: middle;\n",
       "    }\n",
       "\n",
       "    .dataframe tbody tr th {\n",
       "        vertical-align: top;\n",
       "    }\n",
       "\n",
       "    .dataframe thead th {\n",
       "        text-align: right;\n",
       "    }\n",
       "</style>\n",
       "<table border=\"1\" class=\"dataframe\">\n",
       "  <thead>\n",
       "    <tr style=\"text-align: right;\">\n",
       "      <th></th>\n",
       "      <th>Rank</th>\n",
       "      <th>Grade</th>\n",
       "      <th>Channel name</th>\n",
       "      <th>Video Uploads</th>\n",
       "      <th>Subscribers</th>\n",
       "      <th>Video views</th>\n",
       "    </tr>\n",
       "  </thead>\n",
       "  <tbody>\n",
       "    <tr>\n",
       "      <th>0</th>\n",
       "      <td>1st</td>\n",
       "      <td>A++</td>\n",
       "      <td>Zee TV</td>\n",
       "      <td>82757</td>\n",
       "      <td>18752951</td>\n",
       "      <td>20869786591</td>\n",
       "    </tr>\n",
       "    <tr>\n",
       "      <th>1</th>\n",
       "      <td>2nd</td>\n",
       "      <td>A++</td>\n",
       "      <td>T-Series</td>\n",
       "      <td>12661</td>\n",
       "      <td>61196302</td>\n",
       "      <td>47548839843</td>\n",
       "    </tr>\n",
       "    <tr>\n",
       "      <th>2</th>\n",
       "      <td>3rd</td>\n",
       "      <td>A++</td>\n",
       "      <td>Cocomelon - Nursery Rhymes</td>\n",
       "      <td>373</td>\n",
       "      <td>19238251</td>\n",
       "      <td>9793305082</td>\n",
       "    </tr>\n",
       "    <tr>\n",
       "      <th>3</th>\n",
       "      <td>4th</td>\n",
       "      <td>A++</td>\n",
       "      <td>SET India</td>\n",
       "      <td>27323</td>\n",
       "      <td>31180559</td>\n",
       "      <td>22675948293</td>\n",
       "    </tr>\n",
       "    <tr>\n",
       "      <th>4</th>\n",
       "      <td>5th</td>\n",
       "      <td>A++</td>\n",
       "      <td>WWE</td>\n",
       "      <td>36756</td>\n",
       "      <td>32852346</td>\n",
       "      <td>26273668433</td>\n",
       "    </tr>\n",
       "  </tbody>\n",
       "</table>\n",
       "</div>"
      ],
      "text/plain": [
       "  Rank Grade                Channel name Video Uploads Subscribers  \\\n",
       "0  1st  A++                       Zee TV         82757    18752951   \n",
       "1  2nd  A++                     T-Series         12661    61196302   \n",
       "2  3rd  A++   Cocomelon - Nursery Rhymes           373    19238251   \n",
       "3  4th  A++                    SET India         27323    31180559   \n",
       "4  5th  A++                          WWE         36756    32852346   \n",
       "\n",
       "   Video views  \n",
       "0  20869786591  \n",
       "1  47548839843  \n",
       "2   9793305082  \n",
       "3  22675948293  \n",
       "4  26273668433  "
      ]
     },
     "execution_count": 3,
     "metadata": {},
     "output_type": "execute_result"
    }
   ],
   "source": [
    "df = pd.read_csv(\"data.csv\")\n",
    "df.head()"
   ]
  },
  {
   "cell_type": "code",
   "execution_count": 4,
   "metadata": {},
   "outputs": [
    {
     "data": {
      "text/plain": [
       "array(['A++ ', 'A+ ', 'A ', '\\xa0 ', 'A- ', 'B+ '], dtype=object)"
      ]
     },
     "execution_count": 4,
     "metadata": {},
     "output_type": "execute_result"
    }
   ],
   "source": [
    "df.Grade.unique()"
   ]
  },
  {
   "cell_type": "code",
   "execution_count": 5,
   "metadata": {},
   "outputs": [
    {
     "data": {
      "text/plain": [
       "'A++ '"
      ]
     },
     "execution_count": 5,
     "metadata": {},
     "output_type": "execute_result"
    }
   ],
   "source": [
    "#find right whitespace\n",
    "df['Grade'][0]"
   ]
  },
  {
   "cell_type": "code",
   "execution_count": 6,
   "metadata": {},
   "outputs": [
    {
     "data": {
      "text/plain": [
       "Index(['Rank', 'Grade', 'Channel name', 'Video Uploads', 'Subscribers',\n",
       "       'Video views'],\n",
       "      dtype='object')"
      ]
     },
     "execution_count": 6,
     "metadata": {},
     "output_type": "execute_result"
    }
   ],
   "source": [
    "df.columns"
   ]
  },
  {
   "cell_type": "markdown",
   "metadata": {},
   "source": [
    "### Remove white spaces from df"
   ]
  },
  {
   "cell_type": "code",
   "execution_count": 7,
   "metadata": {},
   "outputs": [],
   "source": [
    "df['Rank'] = df['Rank'].apply(lambda x:  x.rstrip())\n",
    "df['Grade'] = df['Grade'].apply(lambda x:  x.rstrip())\n",
    "df['Channel name'] = df['Channel name'].apply(lambda x:  x.rstrip())\n",
    "df['Video Uploads'] = df['Video Uploads'].apply(lambda x:  x.rstrip())\n",
    "df['Subscribers'] = df['Subscribers'].apply(lambda x:  x.rstrip())"
   ]
  },
  {
   "cell_type": "code",
   "execution_count": 8,
   "metadata": {},
   "outputs": [
    {
     "data": {
      "text/plain": [
       "387"
      ]
     },
     "execution_count": 8,
     "metadata": {},
     "output_type": "execute_result"
    }
   ],
   "source": [
    "#Number of channels whose Subscriber data is not available \n",
    "df['Subscribers'][df['Subscribers']=='--'].count()"
   ]
  },
  {
   "cell_type": "code",
   "execution_count": 9,
   "metadata": {},
   "outputs": [
    {
     "data": {
      "text/plain": [
       "6"
      ]
     },
     "execution_count": 9,
     "metadata": {},
     "output_type": "execute_result"
    }
   ],
   "source": [
    "#Number of channels whose Video Uploads is not available \n",
    "df['Video Uploads'][df['Video Uploads']=='--'].count()"
   ]
  },
  {
   "cell_type": "markdown",
   "metadata": {},
   "source": [
    "### Remove channels which do not have all data "
   ]
  },
  {
   "cell_type": "code",
   "execution_count": 10,
   "metadata": {},
   "outputs": [],
   "source": [
    "#remove no data row\n",
    "df = df[df['Subscribers'] != '--']\n",
    "df = df[df['Video Uploads'] != '--']"
   ]
  },
  {
   "cell_type": "code",
   "execution_count": 11,
   "metadata": {},
   "outputs": [
    {
     "data": {
      "text/plain": [
       "4610"
      ]
     },
     "execution_count": 11,
     "metadata": {},
     "output_type": "execute_result"
    }
   ],
   "source": [
    "len(df)"
   ]
  },
  {
   "cell_type": "markdown",
   "metadata": {},
   "source": [
    "## Convert Subscribers and video uploads fields"
   ]
  },
  {
   "cell_type": "code",
   "execution_count": 12,
   "metadata": {},
   "outputs": [
    {
     "name": "stdout",
     "output_type": "stream",
     "text": [
      "<class 'str'>\n",
      "<class 'str'>\n"
     ]
    }
   ],
   "source": [
    "#chack the type of fileds\n",
    "print( type(df['Subscribers'][0]) )\n",
    "print( type(df['Video Uploads'][0]) )"
   ]
  },
  {
   "cell_type": "code",
   "execution_count": 13,
   "metadata": {},
   "outputs": [],
   "source": [
    "#converting str to integer\n",
    "df['Subscribers'] = df['Subscribers'].apply(lambda x: int(x))\n",
    "df['Video Uploads'] = df['Video Uploads'].apply(lambda x: int(x))"
   ]
  },
  {
   "cell_type": "markdown",
   "metadata": {},
   "source": [
    "### Check univariate outliers are available or not"
   ]
  },
  {
   "cell_type": "code",
   "execution_count": 122,
   "metadata": {},
   "outputs": [
    {
     "data": {
      "text/plain": [
       "<matplotlib.axes._subplots.AxesSubplot at 0x2060b478b38>"
      ]
     },
     "execution_count": 122,
     "metadata": {},
     "output_type": "execute_result"
    },
    {
     "data": {
      "image/png": "[encoded data removed]",
      "text/plain": [
       "<Figure size 1080x576 with 3 Axes>"
      ]
     },
     "metadata": {
      "needs_background": "light"
     },
     "output_type": "display_data"
    }
   ],
   "source": [
    "fig = plt.figure(figsize=(15,8))\n",
    "\n",
    "plt.subplot(331)\n",
    "sb.boxplot(df['Subscribers'])\n",
    "\n",
    "plt.subplot(332)\n",
    "sb.boxplot(df['Video Uploads'])\n",
    "\n",
    "plt.subplot(333)\n",
    "sb.boxplot(df['Video views'])"
   ]
  },
  {
   "cell_type": "markdown",
   "metadata": {},
   "source": [
    "### Check bivariate outliers are available or not"
   ]
  },
  {
   "cell_type": "code",
   "execution_count": 15,
   "metadata": {},
   "outputs": [
    {
     "data": {
      "text/plain": [
       "<matplotlib.collections.PathCollection at 0x20674049b70>"
      ]
     },
     "execution_count": 15,
     "metadata": {},
     "output_type": "execute_result"
    },
    {
     "data": {
      "image/png": "[encoded data removed]",
      "text/plain": [
       "<Figure size 1080x576 with 3 Axes>"
      ]
     },
     "metadata": {
      "needs_background": "light"
     },
     "output_type": "display_data"
    }
   ],
   "source": [
    "fig = plt.figure(figsize=(15,8))\n",
    "\n",
    "plt.subplot(331)\n",
    "plt.scatter(df['Video views'], df['Subscribers'])  \n",
    "\n",
    "plt.subplot(332)\n",
    "plt.scatter(df['Video Uploads'], df['Subscribers'])  \n",
    "\n",
    "plt.subplot(333)\n",
    "plt.scatter(df['Video Uploads'], df['Video views'])  "
   ]
  },
  {
   "cell_type": "code",
   "execution_count": 16,
   "metadata": {},
   "outputs": [
    {
     "data": {
      "text/plain": [
       "'A++'"
      ]
     },
     "execution_count": 16,
     "metadata": {},
     "output_type": "execute_result"
    }
   ],
   "source": [
    "df['Grade'][0]"
   ]
  },
  {
   "cell_type": "code",
   "execution_count": 17,
   "metadata": {},
   "outputs": [
    {
     "data": {
      "text/plain": [
       "array(['A++', 'A+', 'A', 'A-', 'B+'], dtype=object)"
      ]
     },
     "execution_count": 17,
     "metadata": {},
     "output_type": "execute_result"
    }
   ],
   "source": [
    "df.Grade.unique()"
   ]
  },
  {
   "cell_type": "code",
   "execution_count": 18,
   "metadata": {},
   "outputs": [
    {
     "data": {
      "text/plain": [
       "B+     2722\n",
       "A-      941\n",
       "A       897\n",
       "A+       40\n",
       "A++      10\n",
       "Name: Grade, dtype: int64"
      ]
     },
     "execution_count": 18,
     "metadata": {},
     "output_type": "execute_result"
    }
   ],
   "source": [
    "#Count channels with respect to Grade \n",
    "df['Grade'].value_counts()"
   ]
  },
  {
   "cell_type": "markdown",
   "metadata": {},
   "source": [
    "### Percetange of channels with Grades"
   ]
  },
  {
   "cell_type": "code",
   "execution_count": 130,
   "metadata": {},
   "outputs": [
    {
     "data": {
      "text/plain": [
       "([<matplotlib.patches.Wedge at 0x20610b1f710>,\n",
       "  <matplotlib.patches.Wedge at 0x20610b1fe10>,\n",
       "  <matplotlib.patches.Wedge at 0x206106f3550>,\n",
       "  <matplotlib.patches.Wedge at 0x206106f3c50>,\n",
       "  <matplotlib.patches.Wedge at 0x206106f7390>],\n",
       " [Text(-0.3084016017929751, 1.0558827832726165, 'B+'),\n",
       "  Text(-0.388717152747084, -1.0290281702461797, 'A-'),\n",
       "  Text(0.8557247552361925, -0.6911838708158333, 'A'),\n",
       "  Text(1.5986626960273909, -0.06540324403601812, 'A+'),\n",
       "  Text(1.5999628475290002, -0.01090350984287565, 'A++')],\n",
       " [Text(-0.16821905552344096, 0.5759360636032453, '59.0%'),\n",
       "  Text(-0.2120275378620458, -0.5612880928615525, '20.4%'),\n",
       "  Text(0.4667589574015595, -0.3770093840813636, '19.5%'),\n",
       "  Text(1.099080603518831, -0.04496473027476246, '0.9%'),\n",
       "  Text(1.0999744576761876, -0.007496163016977009, '0.2%')])"
      ]
     },
     "execution_count": 130,
     "metadata": {},
     "output_type": "execute_result"
    },
    {
     "data": {
      "image/png": "[encoded data removed]",
      "text/plain": [
       "<Figure size 1656x576 with 1 Axes>"
      ]
     },
     "metadata": {},
     "output_type": "display_data"
    }
   ],
   "source": [
    "fig = plt.figure(figsize=(23,8))\n",
    "explode = (0, 0, 0, 0.5,0.5)\n",
    "plt.pie(df['Grade'].value_counts(), labels=['B+','A-','A','A+','A++'], explode=explode,autopct='%1.1f%%')"
   ]
  },
  {
   "cell_type": "markdown",
   "metadata": {},
   "source": [
    "## Top Subscribers Channels"
   ]
  },
  {
   "cell_type": "code",
   "execution_count": 21,
   "metadata": {},
   "outputs": [
    {
     "data": {
      "text/html": [
       "<div>\n",
       "<style scoped>\n",
       "    .dataframe tbody tr th:only-of-type {\n",
       "        vertical-align: middle;\n",
       "    }\n",
       "\n",
       "    .dataframe tbody tr th {\n",
       "        vertical-align: top;\n",
       "    }\n",
       "\n",
       "    .dataframe thead th {\n",
       "        text-align: right;\n",
       "    }\n",
       "</style>\n",
       "<table border=\"1\" class=\"dataframe\">\n",
       "  <thead>\n",
       "    <tr style=\"text-align: right;\">\n",
       "      <th></th>\n",
       "      <th>Rank</th>\n",
       "      <th>Grade</th>\n",
       "      <th>Channel name</th>\n",
       "      <th>Video Uploads</th>\n",
       "      <th>Subscribers</th>\n",
       "      <th>Video views</th>\n",
       "    </tr>\n",
       "  </thead>\n",
       "  <tbody>\n",
       "    <tr>\n",
       "      <th>1470</th>\n",
       "      <td>1,471st</td>\n",
       "      <td>A-</td>\n",
       "      <td>PewDiePie</td>\n",
       "      <td>3601</td>\n",
       "      <td>65995310</td>\n",
       "      <td>18684630003</td>\n",
       "    </tr>\n",
       "  </tbody>\n",
       "</table>\n",
       "</div>"
      ],
      "text/plain": [
       "         Rank Grade Channel name  Video Uploads  Subscribers  Video views\n",
       "1470  1,471st    A-    PewDiePie           3601     65995310  18684630003"
      ]
     },
     "execution_count": 21,
     "metadata": {},
     "output_type": "execute_result"
    }
   ],
   "source": [
    "#highest subscribers channel\n",
    "df[df['Subscribers']==df['Subscribers'].max()]"
   ]
  },
  {
   "cell_type": "code",
   "execution_count": 44,
   "metadata": {
    "scrolled": true
   },
   "outputs": [
    {
     "data": {
      "text/html": [
       "<div>\n",
       "<style scoped>\n",
       "    .dataframe tbody tr th:only-of-type {\n",
       "        vertical-align: middle;\n",
       "    }\n",
       "\n",
       "    .dataframe tbody tr th {\n",
       "        vertical-align: top;\n",
       "    }\n",
       "\n",
       "    .dataframe thead th {\n",
       "        text-align: right;\n",
       "    }\n",
       "</style>\n",
       "<table border=\"1\" class=\"dataframe\">\n",
       "  <thead>\n",
       "    <tr style=\"text-align: right;\">\n",
       "      <th></th>\n",
       "      <th>Rank</th>\n",
       "      <th>Grade</th>\n",
       "      <th>Channel name</th>\n",
       "      <th>Video Uploads</th>\n",
       "      <th>Subscribers</th>\n",
       "      <th>Video views</th>\n",
       "    </tr>\n",
       "  </thead>\n",
       "  <tbody>\n",
       "    <tr>\n",
       "      <th>1470</th>\n",
       "      <td>1,471st</td>\n",
       "      <td>A-</td>\n",
       "      <td>PewDiePie</td>\n",
       "      <td>3601</td>\n",
       "      <td>65995310</td>\n",
       "      <td>18684630003</td>\n",
       "    </tr>\n",
       "    <tr>\n",
       "      <th>1</th>\n",
       "      <td>2nd</td>\n",
       "      <td>A++</td>\n",
       "      <td>T-Series</td>\n",
       "      <td>12661</td>\n",
       "      <td>61196302</td>\n",
       "      <td>47548839843</td>\n",
       "    </tr>\n",
       "    <tr>\n",
       "      <th>11</th>\n",
       "      <td>12th</td>\n",
       "      <td>A+</td>\n",
       "      <td>Canal KondZilla</td>\n",
       "      <td>822</td>\n",
       "      <td>39409726</td>\n",
       "      <td>19291034467</td>\n",
       "    </tr>\n",
       "    <tr>\n",
       "      <th>174</th>\n",
       "      <td>175th</td>\n",
       "      <td>A</td>\n",
       "      <td>Dude Perfect</td>\n",
       "      <td>185</td>\n",
       "      <td>34489432</td>\n",
       "      <td>6095981611</td>\n",
       "    </tr>\n",
       "    <tr>\n",
       "      <th>3222</th>\n",
       "      <td>3,223rd</td>\n",
       "      <td>B+</td>\n",
       "      <td>HolaSoyGerman.</td>\n",
       "      <td>137</td>\n",
       "      <td>34480357</td>\n",
       "      <td>3617584451</td>\n",
       "    </tr>\n",
       "  </tbody>\n",
       "</table>\n",
       "</div>"
      ],
      "text/plain": [
       "         Rank Grade     Channel name  Video Uploads  Subscribers  Video views\n",
       "1470  1,471st    A-        PewDiePie           3601     65995310  18684630003\n",
       "1         2nd   A++         T-Series          12661     61196302  47548839843\n",
       "11       12th    A+  Canal KondZilla            822     39409726  19291034467\n",
       "174     175th     A     Dude Perfect            185     34489432   6095981611\n",
       "3222  3,223rd    B+   HolaSoyGerman.            137     34480357   3617584451"
      ]
     },
     "execution_count": 44,
     "metadata": {},
     "output_type": "execute_result"
    }
   ],
   "source": [
    "#Top five subscribers channels\n",
    "top5sub = df.sort_values('Subscribers', ascending=False).head()\n",
    "top5sub"
   ]
  },
  {
   "cell_type": "markdown",
   "metadata": {},
   "source": [
    "## Low Subscribers Channels"
   ]
  },
  {
   "cell_type": "code",
   "execution_count": 23,
   "metadata": {},
   "outputs": [
    {
     "data": {
      "text/html": [
       "<div>\n",
       "<style scoped>\n",
       "    .dataframe tbody tr th:only-of-type {\n",
       "        vertical-align: middle;\n",
       "    }\n",
       "\n",
       "    .dataframe tbody tr th {\n",
       "        vertical-align: top;\n",
       "    }\n",
       "\n",
       "    .dataframe thead th {\n",
       "        text-align: right;\n",
       "    }\n",
       "</style>\n",
       "<table border=\"1\" class=\"dataframe\">\n",
       "  <thead>\n",
       "    <tr style=\"text-align: right;\">\n",
       "      <th></th>\n",
       "      <th>Rank</th>\n",
       "      <th>Grade</th>\n",
       "      <th>Channel name</th>\n",
       "      <th>Video Uploads</th>\n",
       "      <th>Subscribers</th>\n",
       "      <th>Video views</th>\n",
       "    </tr>\n",
       "  </thead>\n",
       "  <tbody>\n",
       "    <tr>\n",
       "      <th>4096</th>\n",
       "      <td>4,097th</td>\n",
       "      <td>B+</td>\n",
       "      <td>Xiaomi France</td>\n",
       "      <td>17</td>\n",
       "      <td>301</td>\n",
       "      <td>12943662</td>\n",
       "    </tr>\n",
       "  </tbody>\n",
       "</table>\n",
       "</div>"
      ],
      "text/plain": [
       "         Rank Grade   Channel name  Video Uploads  Subscribers  Video views\n",
       "4096  4,097th    B+  Xiaomi France             17          301     12943662"
      ]
     },
     "execution_count": 23,
     "metadata": {},
     "output_type": "execute_result"
    }
   ],
   "source": [
    "#lowest subscribers channel\n",
    "df[df['Subscribers']==df['Subscribers'].min()]"
   ]
  },
  {
   "cell_type": "code",
   "execution_count": 51,
   "metadata": {},
   "outputs": [
    {
     "data": {
      "text/html": [
       "<div>\n",
       "<style scoped>\n",
       "    .dataframe tbody tr th:only-of-type {\n",
       "        vertical-align: middle;\n",
       "    }\n",
       "\n",
       "    .dataframe tbody tr th {\n",
       "        vertical-align: top;\n",
       "    }\n",
       "\n",
       "    .dataframe thead th {\n",
       "        text-align: right;\n",
       "    }\n",
       "</style>\n",
       "<table border=\"1\" class=\"dataframe\">\n",
       "  <thead>\n",
       "    <tr style=\"text-align: right;\">\n",
       "      <th></th>\n",
       "      <th>Rank</th>\n",
       "      <th>Grade</th>\n",
       "      <th>Channel name</th>\n",
       "      <th>Video Uploads</th>\n",
       "      <th>Subscribers</th>\n",
       "      <th>Video views</th>\n",
       "    </tr>\n",
       "  </thead>\n",
       "  <tbody>\n",
       "    <tr>\n",
       "      <th>4096</th>\n",
       "      <td>4,097th</td>\n",
       "      <td>B+</td>\n",
       "      <td>Xiaomi France</td>\n",
       "      <td>17</td>\n",
       "      <td>301</td>\n",
       "      <td>12943662</td>\n",
       "    </tr>\n",
       "    <tr>\n",
       "      <th>92</th>\n",
       "      <td>93rd</td>\n",
       "      <td>A</td>\n",
       "      <td>hairong zheng</td>\n",
       "      <td>492</td>\n",
       "      <td>394</td>\n",
       "      <td>254252482</td>\n",
       "    </tr>\n",
       "    <tr>\n",
       "      <th>3516</th>\n",
       "      <td>3,517th</td>\n",
       "      <td>B+</td>\n",
       "      <td>Jianpeng Li</td>\n",
       "      <td>232</td>\n",
       "      <td>437</td>\n",
       "      <td>70635195</td>\n",
       "    </tr>\n",
       "    <tr>\n",
       "      <th>3160</th>\n",
       "      <td>3,161st</td>\n",
       "      <td>B+</td>\n",
       "      <td>Ron Funches - Topic</td>\n",
       "      <td>21</td>\n",
       "      <td>453</td>\n",
       "      <td>13932203</td>\n",
       "    </tr>\n",
       "    <tr>\n",
       "      <th>2287</th>\n",
       "      <td>2,288th</td>\n",
       "      <td>B+</td>\n",
       "      <td>Christian Nodal - Topic</td>\n",
       "      <td>30</td>\n",
       "      <td>471</td>\n",
       "      <td>17868274</td>\n",
       "    </tr>\n",
       "  </tbody>\n",
       "</table>\n",
       "</div>"
      ],
      "text/plain": [
       "         Rank Grade             Channel name  Video Uploads  Subscribers  \\\n",
       "4096  4,097th    B+            Xiaomi France             17          301   \n",
       "92       93rd     A            hairong zheng            492          394   \n",
       "3516  3,517th    B+              Jianpeng Li            232          437   \n",
       "3160  3,161st    B+      Ron Funches - Topic             21          453   \n",
       "2287  2,288th    B+  Christian Nodal - Topic             30          471   \n",
       "\n",
       "      Video views  \n",
       "4096     12943662  \n",
       "92      254252482  \n",
       "3516     70635195  \n",
       "3160     13932203  \n",
       "2287     17868274  "
      ]
     },
     "execution_count": 51,
     "metadata": {},
     "output_type": "execute_result"
    }
   ],
   "source": [
    "#lowest subscribers channels\n",
    "low5sub = df.sort_values('Subscribers', ascending=True).head()\n",
    "low5sub"
   ]
  },
  {
   "cell_type": "code",
   "execution_count": 150,
   "metadata": {},
   "outputs": [
    {
     "data": {
      "text/plain": [
       "<BarContainer object of 5 artists>"
      ]
     },
     "execution_count": 150,
     "metadata": {},
     "output_type": "execute_result"
    },
    {
     "data": {
      "image/png": "[encoded data removed]",
      "text/plain": [
       "<Figure size 1656x576 with 2 Axes>"
      ]
     },
     "metadata": {
      "needs_background": "light"
     },
     "output_type": "display_data"
    }
   ],
   "source": [
    "fig = plt.figure(figsize=(23,8))\n",
    "\n",
    "plt.subplot(321)\n",
    "plt.title(\"Top 5 highest subscribers chaannels\")\n",
    "plt.bar(top5sub['Channel name'], top5sub['Subscribers'], color=\"green\")\n",
    "\n",
    "plt.subplot(322)\n",
    "plt.title(\"Last 5 lowest subscribers chaannels\")\n",
    "plt.bar(low5sub['Channel name'], low5sub['Subscribers'])"
   ]
  },
  {
   "cell_type": "markdown",
   "metadata": {},
   "source": [
    "## Most viewable channels"
   ]
  },
  {
   "cell_type": "code",
   "execution_count": 132,
   "metadata": {},
   "outputs": [
    {
     "data": {
      "text/html": [
       "<div>\n",
       "<style scoped>\n",
       "    .dataframe tbody tr th:only-of-type {\n",
       "        vertical-align: middle;\n",
       "    }\n",
       "\n",
       "    .dataframe tbody tr th {\n",
       "        vertical-align: top;\n",
       "    }\n",
       "\n",
       "    .dataframe thead th {\n",
       "        text-align: right;\n",
       "    }\n",
       "</style>\n",
       "<table border=\"1\" class=\"dataframe\">\n",
       "  <thead>\n",
       "    <tr style=\"text-align: right;\">\n",
       "      <th></th>\n",
       "      <th>Rank</th>\n",
       "      <th>Grade</th>\n",
       "      <th>Channel name</th>\n",
       "      <th>Video Uploads</th>\n",
       "      <th>Subscribers</th>\n",
       "      <th>Video views</th>\n",
       "    </tr>\n",
       "  </thead>\n",
       "  <tbody>\n",
       "    <tr>\n",
       "      <th>1</th>\n",
       "      <td>2nd</td>\n",
       "      <td>A++</td>\n",
       "      <td>T-Series</td>\n",
       "      <td>12661</td>\n",
       "      <td>61196302</td>\n",
       "      <td>47548839843</td>\n",
       "    </tr>\n",
       "    <tr>\n",
       "      <th>4</th>\n",
       "      <td>5th</td>\n",
       "      <td>A++</td>\n",
       "      <td>WWE</td>\n",
       "      <td>36756</td>\n",
       "      <td>32852346</td>\n",
       "      <td>26273668433</td>\n",
       "    </tr>\n",
       "    <tr>\n",
       "      <th>8</th>\n",
       "      <td>9th</td>\n",
       "      <td>A++</td>\n",
       "      <td>Ryan ToysReview</td>\n",
       "      <td>1140</td>\n",
       "      <td>16082927</td>\n",
       "      <td>24518098041</td>\n",
       "    </tr>\n",
       "    <tr>\n",
       "      <th>6</th>\n",
       "      <td>7th</td>\n",
       "      <td>A++</td>\n",
       "      <td>netd müzik</td>\n",
       "      <td>8500</td>\n",
       "      <td>11373567</td>\n",
       "      <td>23898730764</td>\n",
       "    </tr>\n",
       "    <tr>\n",
       "      <th>3</th>\n",
       "      <td>4th</td>\n",
       "      <td>A++</td>\n",
       "      <td>SET India</td>\n",
       "      <td>27323</td>\n",
       "      <td>31180559</td>\n",
       "      <td>22675948293</td>\n",
       "    </tr>\n",
       "  </tbody>\n",
       "</table>\n",
       "</div>"
      ],
      "text/plain": [
       "  Rank Grade     Channel name  Video Uploads  Subscribers  Video views\n",
       "1  2nd   A++         T-Series          12661     61196302  47548839843\n",
       "4  5th   A++              WWE          36756     32852346  26273668433\n",
       "8  9th   A++  Ryan ToysReview           1140     16082927  24518098041\n",
       "6  7th   A++       netd müzik           8500     11373567  23898730764\n",
       "3  4th   A++        SET India          27323     31180559  22675948293"
      ]
     },
     "execution_count": 132,
     "metadata": {},
     "output_type": "execute_result"
    }
   ],
   "source": [
    "topviewable = df.sort_values('Video views', ascending=False)\n",
    "topviewable.head()"
   ]
  },
  {
   "cell_type": "code",
   "execution_count": 146,
   "metadata": {},
   "outputs": [
    {
     "data": {
      "text/plain": [
       "[Text(0, 0, 'T-Series'),\n",
       " Text(0, 0, 'WWE'),\n",
       " Text(0, 0, 'Ryan ToysReview'),\n",
       " Text(0, 0, 'netd müzik'),\n",
       " Text(0, 0, 'SET India'),\n",
       " Text(0, 0, 'Zee TV'),\n",
       " Text(0, 0, 'Canal KondZilla'),\n",
       " Text(0, 0, 'PewDiePie'),\n",
       " Text(0, 0, 'JustinBieberVEVO'),\n",
       " Text(0, 0, 'Little Baby Bum - Nursery Rhymes &…'),\n",
       " Text(0, 0, 'Get Movies'),\n",
       " Text(0, 0, 'ABS-CBN Entertainment'),\n",
       " Text(0, 0, 'Movieclips'),\n",
       " Text(0, 0, 'Маша и Медведь'),\n",
       " Text(0, 0, 'El Reino Infantil'),\n",
       " Text(0, 0, 'KatyPerryVEVO'),\n",
       " Text(0, 0, 'TaylorSwiftVEVO'),\n",
       " Text(0, 0, 'ChuChu TV Nursery Rhymes & Kids…'),\n",
       " Text(0, 0, 'shakiraVEVO'),\n",
       " Text(0, 0, 'Ed Sheeran'),\n",
       " Text(0, 0, 'FunToys Collector Disney Toys…'),\n",
       " Text(0, 0, 'WorkpointOfficial'),\n",
       " Text(0, 0, 'BuzzFeedVideo'),\n",
       " Text(0, 0, 'DanTDM'),\n",
       " Text(0, 0, 'GMM GRAMMY OFFICIAL')]"
      ]
     },
     "execution_count": 146,
     "metadata": {},
     "output_type": "execute_result"
    },
    {
     "data": {
      "image/png": "[encoded data removed]",
      "text/plain": [
       "<Figure size 1440x576 with 1 Axes>"
      ]
     },
     "metadata": {
      "needs_background": "light"
     },
     "output_type": "display_data"
    }
   ],
   "source": [
    "fig = plt.figure(figsize=(20,8))\n",
    "\n",
    "ax = sb.barplot(topviewable['Channel name'][0:25], topviewable['Video views'][0:25])\n",
    "ax.set_xticklabels(ax.get_xticklabels(), rotation=45, ha=\"right\")"
   ]
  },
  {
   "cell_type": "markdown",
   "metadata": {},
   "source": [
    "## Lowest viewable channels"
   ]
  },
  {
   "cell_type": "code",
   "execution_count": 98,
   "metadata": {},
   "outputs": [
    {
     "data": {
      "text/html": [
       "<div>\n",
       "<style scoped>\n",
       "    .dataframe tbody tr th:only-of-type {\n",
       "        vertical-align: middle;\n",
       "    }\n",
       "\n",
       "    .dataframe tbody tr th {\n",
       "        vertical-align: top;\n",
       "    }\n",
       "\n",
       "    .dataframe thead th {\n",
       "        text-align: right;\n",
       "    }\n",
       "</style>\n",
       "<table border=\"1\" class=\"dataframe\">\n",
       "  <thead>\n",
       "    <tr style=\"text-align: right;\">\n",
       "      <th></th>\n",
       "      <th>Rank</th>\n",
       "      <th>Grade</th>\n",
       "      <th>Channel name</th>\n",
       "      <th>Video Uploads</th>\n",
       "      <th>Subscribers</th>\n",
       "      <th>Video views</th>\n",
       "    </tr>\n",
       "  </thead>\n",
       "  <tbody>\n",
       "    <tr>\n",
       "      <th>2404</th>\n",
       "      <td>2,405th</td>\n",
       "      <td>B+</td>\n",
       "      <td>ItsHARSH007 Gaming</td>\n",
       "      <td>1</td>\n",
       "      <td>23499</td>\n",
       "      <td>75</td>\n",
       "    </tr>\n",
       "    <tr>\n",
       "      <th>1294</th>\n",
       "      <td>1,295th</td>\n",
       "      <td>A-</td>\n",
       "      <td>VideoClipVietNam</td>\n",
       "      <td>5</td>\n",
       "      <td>56096</td>\n",
       "      <td>8496</td>\n",
       "    </tr>\n",
       "    <tr>\n",
       "      <th>1350</th>\n",
       "      <td>1,351st</td>\n",
       "      <td>A-</td>\n",
       "      <td>GumTea TV</td>\n",
       "      <td>14</td>\n",
       "      <td>114244</td>\n",
       "      <td>9495</td>\n",
       "    </tr>\n",
       "    <tr>\n",
       "      <th>2972</th>\n",
       "      <td>2,973rd</td>\n",
       "      <td>B+</td>\n",
       "      <td>DICHARA</td>\n",
       "      <td>23</td>\n",
       "      <td>48687</td>\n",
       "      <td>74014</td>\n",
       "    </tr>\n",
       "    <tr>\n",
       "      <th>954</th>\n",
       "      <td>955th</td>\n",
       "      <td>A</td>\n",
       "      <td>Amit choudhary</td>\n",
       "      <td>18</td>\n",
       "      <td>201943</td>\n",
       "      <td>222996</td>\n",
       "    </tr>\n",
       "  </tbody>\n",
       "</table>\n",
       "</div>"
      ],
      "text/plain": [
       "         Rank Grade        Channel name  Video Uploads  Subscribers  \\\n",
       "2404  2,405th    B+  ItsHARSH007 Gaming              1        23499   \n",
       "1294  1,295th    A-    VideoClipVietNam              5        56096   \n",
       "1350  1,351st    A-           GumTea TV             14       114244   \n",
       "2972  2,973rd    B+             DICHARA             23        48687   \n",
       "954     955th     A      Amit choudhary             18       201943   \n",
       "\n",
       "      Video views  \n",
       "2404           75  \n",
       "1294         8496  \n",
       "1350         9495  \n",
       "2972        74014  \n",
       "954        222996  "
      ]
     },
     "execution_count": 98,
     "metadata": {},
     "output_type": "execute_result"
    }
   ],
   "source": [
    "lowviewable = df.sort_values('Video views', ascending = True)\n",
    "lowviewable.head()"
   ]
  },
  {
   "cell_type": "markdown",
   "metadata": {},
   "source": [
    "## Most video uploads channels "
   ]
  },
  {
   "cell_type": "code",
   "execution_count": 148,
   "metadata": {},
   "outputs": [
    {
     "data": {
      "text/html": [
       "<div>\n",
       "<style scoped>\n",
       "    .dataframe tbody tr th:only-of-type {\n",
       "        vertical-align: middle;\n",
       "    }\n",
       "\n",
       "    .dataframe tbody tr th {\n",
       "        vertical-align: top;\n",
       "    }\n",
       "\n",
       "    .dataframe thead th {\n",
       "        text-align: right;\n",
       "    }\n",
       "</style>\n",
       "<table border=\"1\" class=\"dataframe\">\n",
       "  <thead>\n",
       "    <tr style=\"text-align: right;\">\n",
       "      <th></th>\n",
       "      <th>Rank</th>\n",
       "      <th>Grade</th>\n",
       "      <th>Channel name</th>\n",
       "      <th>Video Uploads</th>\n",
       "      <th>Subscribers</th>\n",
       "      <th>Video views</th>\n",
       "    </tr>\n",
       "  </thead>\n",
       "  <tbody>\n",
       "    <tr>\n",
       "      <th>3453</th>\n",
       "      <td>3,454th</td>\n",
       "      <td>B+</td>\n",
       "      <td>AP Archive</td>\n",
       "      <td>422326</td>\n",
       "      <td>746325</td>\n",
       "      <td>548619569</td>\n",
       "    </tr>\n",
       "    <tr>\n",
       "      <th>1149</th>\n",
       "      <td>1,150th</td>\n",
       "      <td>A-</td>\n",
       "      <td>YTN NEWS</td>\n",
       "      <td>355996</td>\n",
       "      <td>820108</td>\n",
       "      <td>1640347646</td>\n",
       "    </tr>\n",
       "    <tr>\n",
       "      <th>2223</th>\n",
       "      <td>2,224th</td>\n",
       "      <td>B+</td>\n",
       "      <td>SBS Drama</td>\n",
       "      <td>335521</td>\n",
       "      <td>1418619</td>\n",
       "      <td>1565758044</td>\n",
       "    </tr>\n",
       "    <tr>\n",
       "      <th>323</th>\n",
       "      <td>324th</td>\n",
       "      <td>A</td>\n",
       "      <td>GMA News</td>\n",
       "      <td>269065</td>\n",
       "      <td>2599175</td>\n",
       "      <td>2786949164</td>\n",
       "    </tr>\n",
       "    <tr>\n",
       "      <th>2956</th>\n",
       "      <td>2,957th</td>\n",
       "      <td>B+</td>\n",
       "      <td>MLB</td>\n",
       "      <td>267649</td>\n",
       "      <td>1434206</td>\n",
       "      <td>1329206392</td>\n",
       "    </tr>\n",
       "  </tbody>\n",
       "</table>\n",
       "</div>"
      ],
      "text/plain": [
       "         Rank Grade Channel name  Video Uploads  Subscribers  Video views\n",
       "3453  3,454th    B+   AP Archive         422326       746325    548619569\n",
       "1149  1,150th    A-     YTN NEWS         355996       820108   1640347646\n",
       "2223  2,224th    B+    SBS Drama         335521      1418619   1565758044\n",
       "323     324th     A     GMA News         269065      2599175   2786949164\n",
       "2956  2,957th    B+          MLB         267649      1434206   1329206392"
      ]
     },
     "execution_count": 148,
     "metadata": {},
     "output_type": "execute_result"
    }
   ],
   "source": [
    "df.sort_values('Video Uploads', ascending=False).head()"
   ]
  },
  {
   "cell_type": "markdown",
   "metadata": {},
   "source": [
    "## Few video uploads channels "
   ]
  },
  {
   "cell_type": "code",
   "execution_count": 28,
   "metadata": {},
   "outputs": [
    {
     "data": {
      "text/html": [
       "<div>\n",
       "<style scoped>\n",
       "    .dataframe tbody tr th:only-of-type {\n",
       "        vertical-align: middle;\n",
       "    }\n",
       "\n",
       "    .dataframe tbody tr th {\n",
       "        vertical-align: top;\n",
       "    }\n",
       "\n",
       "    .dataframe thead th {\n",
       "        text-align: right;\n",
       "    }\n",
       "</style>\n",
       "<table border=\"1\" class=\"dataframe\">\n",
       "  <thead>\n",
       "    <tr style=\"text-align: right;\">\n",
       "      <th></th>\n",
       "      <th>Rank</th>\n",
       "      <th>Grade</th>\n",
       "      <th>Channel name</th>\n",
       "      <th>Video Uploads</th>\n",
       "      <th>Subscribers</th>\n",
       "      <th>Video views</th>\n",
       "    </tr>\n",
       "  </thead>\n",
       "  <tbody>\n",
       "    <tr>\n",
       "      <th>4474</th>\n",
       "      <td>4,475th</td>\n",
       "      <td>B+</td>\n",
       "      <td>hyghhopes</td>\n",
       "      <td>1</td>\n",
       "      <td>15325</td>\n",
       "      <td>14842098</td>\n",
       "    </tr>\n",
       "    <tr>\n",
       "      <th>628</th>\n",
       "      <td>629th</td>\n",
       "      <td>A</td>\n",
       "      <td>cocoz toon</td>\n",
       "      <td>1</td>\n",
       "      <td>2162992</td>\n",
       "      <td>333012122</td>\n",
       "    </tr>\n",
       "    <tr>\n",
       "      <th>4100</th>\n",
       "      <td>4,101st</td>\n",
       "      <td>B+</td>\n",
       "      <td>DenzelCurryVEVO</td>\n",
       "      <td>1</td>\n",
       "      <td>8012</td>\n",
       "      <td>25878252</td>\n",
       "    </tr>\n",
       "    <tr>\n",
       "      <th>4975</th>\n",
       "      <td>4,976th</td>\n",
       "      <td>B+</td>\n",
       "      <td>Funny Kids</td>\n",
       "      <td>1</td>\n",
       "      <td>150091</td>\n",
       "      <td>21933876</td>\n",
       "    </tr>\n",
       "    <tr>\n",
       "      <th>2404</th>\n",
       "      <td>2,405th</td>\n",
       "      <td>B+</td>\n",
       "      <td>ItsHARSH007 Gaming</td>\n",
       "      <td>1</td>\n",
       "      <td>23499</td>\n",
       "      <td>75</td>\n",
       "    </tr>\n",
       "  </tbody>\n",
       "</table>\n",
       "</div>"
      ],
      "text/plain": [
       "         Rank Grade        Channel name  Video Uploads  Subscribers  \\\n",
       "4474  4,475th    B+           hyghhopes              1        15325   \n",
       "628     629th     A          cocoz toon              1      2162992   \n",
       "4100  4,101st    B+     DenzelCurryVEVO              1         8012   \n",
       "4975  4,976th    B+          Funny Kids              1       150091   \n",
       "2404  2,405th    B+  ItsHARSH007 Gaming              1        23499   \n",
       "\n",
       "      Video views  \n",
       "4474     14842098  \n",
       "628     333012122  \n",
       "4100     25878252  \n",
       "4975     21933876  \n",
       "2404           75  "
      ]
     },
     "execution_count": 28,
     "metadata": {},
     "output_type": "execute_result"
    }
   ],
   "source": [
    "df.sort_values('Video Uploads', ascending=True).head()"
   ]
  },
  {
   "cell_type": "markdown",
   "metadata": {},
   "source": [
    "## Find channels which have valuable contents, though less video uploads but higher subscribers and higher views\n"
   ]
  },
  {
   "cell_type": "code",
   "execution_count": 31,
   "metadata": {},
   "outputs": [
    {
     "name": "stdout",
     "output_type": "stream",
     "text": [
      "90% Percentile of subscribers 6177261\n",
      "90% Percentile of Video views 2549672122\n",
      "50% Percentile of Video uploads 464\n"
     ]
    },
    {
     "data": {
      "text/html": [
       "<div>\n",
       "<style scoped>\n",
       "    .dataframe tbody tr th:only-of-type {\n",
       "        vertical-align: middle;\n",
       "    }\n",
       "\n",
       "    .dataframe tbody tr th {\n",
       "        vertical-align: top;\n",
       "    }\n",
       "\n",
       "    .dataframe thead th {\n",
       "        text-align: right;\n",
       "    }\n",
       "</style>\n",
       "<table border=\"1\" class=\"dataframe\">\n",
       "  <thead>\n",
       "    <tr style=\"text-align: right;\">\n",
       "      <th></th>\n",
       "      <th>Rank</th>\n",
       "      <th>Grade</th>\n",
       "      <th>Channel name</th>\n",
       "      <th>Video Uploads</th>\n",
       "      <th>Subscribers</th>\n",
       "      <th>Video views</th>\n",
       "    </tr>\n",
       "  </thead>\n",
       "  <tbody>\n",
       "    <tr>\n",
       "      <th>2</th>\n",
       "      <td>3rd</td>\n",
       "      <td>A++</td>\n",
       "      <td>Cocomelon - Nursery Rhymes</td>\n",
       "      <td>373</td>\n",
       "      <td>19238251</td>\n",
       "      <td>9793305082</td>\n",
       "    </tr>\n",
       "    <tr>\n",
       "      <th>13</th>\n",
       "      <td>14th</td>\n",
       "      <td>A+</td>\n",
       "      <td>Ozuna</td>\n",
       "      <td>50</td>\n",
       "      <td>18824912</td>\n",
       "      <td>8727783225</td>\n",
       "    </tr>\n",
       "    <tr>\n",
       "      <th>26</th>\n",
       "      <td>27th</td>\n",
       "      <td>A+</td>\n",
       "      <td>ibighit</td>\n",
       "      <td>277</td>\n",
       "      <td>16924523</td>\n",
       "      <td>3437613314</td>\n",
       "    </tr>\n",
       "    <tr>\n",
       "      <th>39</th>\n",
       "      <td>40th</td>\n",
       "      <td>A+</td>\n",
       "      <td>CKN Toys</td>\n",
       "      <td>431</td>\n",
       "      <td>8816598</td>\n",
       "      <td>7498069721</td>\n",
       "    </tr>\n",
       "    <tr>\n",
       "      <th>49</th>\n",
       "      <td>50th</td>\n",
       "      <td>A+</td>\n",
       "      <td>Infobells - Hindi</td>\n",
       "      <td>169</td>\n",
       "      <td>7546139</td>\n",
       "      <td>3919961629</td>\n",
       "    </tr>\n",
       "  </tbody>\n",
       "</table>\n",
       "</div>"
      ],
      "text/plain": [
       "    Rank Grade                Channel name  Video Uploads  Subscribers  \\\n",
       "2    3rd   A++  Cocomelon - Nursery Rhymes            373     19238251   \n",
       "13  14th    A+                       Ozuna             50     18824912   \n",
       "26  27th    A+                     ibighit            277     16924523   \n",
       "39  40th    A+                    CKN Toys            431      8816598   \n",
       "49  50th    A+           Infobells - Hindi            169      7546139   \n",
       "\n",
       "    Video views  \n",
       "2    9793305082  \n",
       "13   8727783225  \n",
       "26   3437613314  \n",
       "39   7498069721  \n",
       "49   3919961629  "
      ]
     },
     "execution_count": 31,
     "metadata": {},
     "output_type": "execute_result"
    }
   ],
   "source": [
    "#find the 90% percentile of subscribers , video views\n",
    "#find the 50% percentile of video uploads\n",
    "\n",
    "import math\n",
    "\n",
    "subscribers = math.ceil(np.percentile(df['Subscribers'] , 90))\n",
    "Videoviews = math.ceil(np.percentile(df['Video views'] , 90))\n",
    "Videouploads = math.ceil(np.percentile(df['Video Uploads'] , 50))\n",
    "\n",
    "print('90% Percentile of subscribers', subscribers)\n",
    "print('90% Percentile of Video views', Videoviews)\n",
    "print('50% Percentile of Video uploads', Videouploads)\n",
    "\n",
    "df[ (df['Subscribers'] > subscribers) & (df['Video views'] > Videoviews) & (df['Video Uploads'] < Videouploads)].head()"
   ]
  },
  {
   "cell_type": "markdown",
   "metadata": {},
   "source": [
    "## Channels that have less subscribers but higher viewers"
   ]
  },
  {
   "cell_type": "code",
   "execution_count": 32,
   "metadata": {},
   "outputs": [
    {
     "data": {
      "text/html": [
       "<div>\n",
       "<style scoped>\n",
       "    .dataframe tbody tr th:only-of-type {\n",
       "        vertical-align: middle;\n",
       "    }\n",
       "\n",
       "    .dataframe tbody tr th {\n",
       "        vertical-align: top;\n",
       "    }\n",
       "\n",
       "    .dataframe thead th {\n",
       "        text-align: right;\n",
       "    }\n",
       "</style>\n",
       "<table border=\"1\" class=\"dataframe\">\n",
       "  <thead>\n",
       "    <tr style=\"text-align: right;\">\n",
       "      <th></th>\n",
       "      <th>Rank</th>\n",
       "      <th>Grade</th>\n",
       "      <th>Channel name</th>\n",
       "      <th>Video Uploads</th>\n",
       "      <th>Subscribers</th>\n",
       "      <th>Video views</th>\n",
       "    </tr>\n",
       "  </thead>\n",
       "  <tbody>\n",
       "    <tr>\n",
       "      <th>418</th>\n",
       "      <td>419th</td>\n",
       "      <td>A</td>\n",
       "      <td>Princess Hime Suite…</td>\n",
       "      <td>1351</td>\n",
       "      <td>1212057</td>\n",
       "      <td>2734803314</td>\n",
       "    </tr>\n",
       "  </tbody>\n",
       "</table>\n",
       "</div>"
      ],
      "text/plain": [
       "      Rank Grade          Channel name  Video Uploads  Subscribers  \\\n",
       "418  419th     A  Princess Hime Suite…           1351      1212057   \n",
       "\n",
       "     Video views  \n",
       "418   2734803314  "
      ]
     },
     "execution_count": 32,
     "metadata": {},
     "output_type": "execute_result"
    }
   ],
   "source": [
    "df[ (df['Subscribers'] < math.floor(np.percentile(df['Subscribers'], 50))) & (df['Video views'] > Videoviews)]"
   ]
  },
  {
   "cell_type": "markdown",
   "metadata": {},
   "source": [
    "## Channels are consistently active but not much people follow these channels "
   ]
  },
  {
   "cell_type": "code",
   "execution_count": 33,
   "metadata": {},
   "outputs": [
    {
     "data": {
      "text/html": [
       "<div>\n",
       "<style scoped>\n",
       "    .dataframe tbody tr th:only-of-type {\n",
       "        vertical-align: middle;\n",
       "    }\n",
       "\n",
       "    .dataframe tbody tr th {\n",
       "        vertical-align: top;\n",
       "    }\n",
       "\n",
       "    .dataframe thead th {\n",
       "        text-align: right;\n",
       "    }\n",
       "</style>\n",
       "<table border=\"1\" class=\"dataframe\">\n",
       "  <thead>\n",
       "    <tr style=\"text-align: right;\">\n",
       "      <th></th>\n",
       "      <th>Rank</th>\n",
       "      <th>Grade</th>\n",
       "      <th>Channel name</th>\n",
       "      <th>Video Uploads</th>\n",
       "      <th>Subscribers</th>\n",
       "      <th>Video views</th>\n",
       "    </tr>\n",
       "  </thead>\n",
       "  <tbody>\n",
       "    <tr>\n",
       "      <th>3216</th>\n",
       "      <td>3,217th</td>\n",
       "      <td>B+</td>\n",
       "      <td>Various Artists - Topic</td>\n",
       "      <td>203934</td>\n",
       "      <td>26013</td>\n",
       "      <td>13049365</td>\n",
       "    </tr>\n",
       "    <tr>\n",
       "      <th>4583</th>\n",
       "      <td>4,584th</td>\n",
       "      <td>B+</td>\n",
       "      <td>Various Artists - Topic</td>\n",
       "      <td>207072</td>\n",
       "      <td>30224</td>\n",
       "      <td>28670469</td>\n",
       "    </tr>\n",
       "  </tbody>\n",
       "</table>\n",
       "</div>"
      ],
      "text/plain": [
       "         Rank Grade             Channel name  Video Uploads  Subscribers  \\\n",
       "3216  3,217th    B+  Various Artists - Topic         203934        26013   \n",
       "4583  4,584th    B+  Various Artists - Topic         207072        30224   \n",
       "\n",
       "      Video views  \n",
       "3216     13049365  \n",
       "4583     28670469  "
      ]
     },
     "execution_count": 33,
     "metadata": {},
     "output_type": "execute_result"
    }
   ],
   "source": [
    "df[ (df['Subscribers'] < math.floor(np.percentile(df['Subscribers'], 10))) & \n",
    "   (df['Video views'] < math.floor(np.percentile(df['Video views'], 10))) &\n",
    "  (df['Video Uploads'] > math.floor(np.percentile(df['Video Uploads'], 95))) ]"
   ]
  },
  {
   "cell_type": "markdown",
   "metadata": {},
   "source": [
    "## Channels are not active for long time"
   ]
  },
  {
   "cell_type": "code",
   "execution_count": 34,
   "metadata": {},
   "outputs": [
    {
     "data": {
      "text/html": [
       "<div>\n",
       "<style scoped>\n",
       "    .dataframe tbody tr th:only-of-type {\n",
       "        vertical-align: middle;\n",
       "    }\n",
       "\n",
       "    .dataframe tbody tr th {\n",
       "        vertical-align: top;\n",
       "    }\n",
       "\n",
       "    .dataframe thead th {\n",
       "        text-align: right;\n",
       "    }\n",
       "</style>\n",
       "<table border=\"1\" class=\"dataframe\">\n",
       "  <thead>\n",
       "    <tr style=\"text-align: right;\">\n",
       "      <th></th>\n",
       "      <th>Rank</th>\n",
       "      <th>Grade</th>\n",
       "      <th>Channel name</th>\n",
       "      <th>Video Uploads</th>\n",
       "      <th>Subscribers</th>\n",
       "      <th>Video views</th>\n",
       "    </tr>\n",
       "  </thead>\n",
       "  <tbody>\n",
       "    <tr>\n",
       "      <th>334</th>\n",
       "      <td>335th</td>\n",
       "      <td>A</td>\n",
       "      <td>ninja</td>\n",
       "      <td>6</td>\n",
       "      <td>547</td>\n",
       "      <td>2127264</td>\n",
       "    </tr>\n",
       "    <tr>\n",
       "      <th>3467</th>\n",
       "      <td>3,468th</td>\n",
       "      <td>B+</td>\n",
       "      <td>Cristian Rocha</td>\n",
       "      <td>11</td>\n",
       "      <td>9106</td>\n",
       "      <td>12829482</td>\n",
       "    </tr>\n",
       "    <tr>\n",
       "      <th>3780</th>\n",
       "      <td>3,781st</td>\n",
       "      <td>B+</td>\n",
       "      <td>Kali Uchis - Topic</td>\n",
       "      <td>46</td>\n",
       "      <td>6076</td>\n",
       "      <td>13207637</td>\n",
       "    </tr>\n",
       "    <tr>\n",
       "      <th>4096</th>\n",
       "      <td>4,097th</td>\n",
       "      <td>B+</td>\n",
       "      <td>Xiaomi France</td>\n",
       "      <td>17</td>\n",
       "      <td>301</td>\n",
       "      <td>12943662</td>\n",
       "    </tr>\n",
       "    <tr>\n",
       "      <th>4214</th>\n",
       "      <td>4,215th</td>\n",
       "      <td>B+</td>\n",
       "      <td>밥티비</td>\n",
       "      <td>162</td>\n",
       "      <td>7549</td>\n",
       "      <td>12639641</td>\n",
       "    </tr>\n",
       "  </tbody>\n",
       "</table>\n",
       "</div>"
      ],
      "text/plain": [
       "         Rank Grade        Channel name  Video Uploads  Subscribers  \\\n",
       "334     335th     A               ninja              6          547   \n",
       "3467  3,468th    B+      Cristian Rocha             11         9106   \n",
       "3780  3,781st    B+  Kali Uchis - Topic             46         6076   \n",
       "4096  4,097th    B+       Xiaomi France             17          301   \n",
       "4214  4,215th    B+                 밥티비            162         7549   \n",
       "\n",
       "      Video views  \n",
       "334       2127264  \n",
       "3467     12829482  \n",
       "3780     13207637  \n",
       "4096     12943662  \n",
       "4214     12639641  "
      ]
     },
     "execution_count": 34,
     "metadata": {},
     "output_type": "execute_result"
    }
   ],
   "source": [
    "df[ (df['Subscribers'] < math.floor(np.percentile(df['Subscribers'], 1))) & \n",
    "   (df['Video views'] < math.floor(np.percentile(df['Video views'], 1))) &\n",
    "  (df['Video Uploads'] < math.floor(np.percentile(df['Video Uploads'], 99))) ].head()"
   ]
  },
  {
   "cell_type": "markdown",
   "metadata": {},
   "source": [
    "## Popular channels"
   ]
  },
  {
   "cell_type": "code",
   "execution_count": 35,
   "metadata": {},
   "outputs": [
    {
     "data": {
      "text/html": [
       "<div>\n",
       "<style scoped>\n",
       "    .dataframe tbody tr th:only-of-type {\n",
       "        vertical-align: middle;\n",
       "    }\n",
       "\n",
       "    .dataframe tbody tr th {\n",
       "        vertical-align: top;\n",
       "    }\n",
       "\n",
       "    .dataframe thead th {\n",
       "        text-align: right;\n",
       "    }\n",
       "</style>\n",
       "<table border=\"1\" class=\"dataframe\">\n",
       "  <thead>\n",
       "    <tr style=\"text-align: right;\">\n",
       "      <th></th>\n",
       "      <th>Rank</th>\n",
       "      <th>Grade</th>\n",
       "      <th>Channel name</th>\n",
       "      <th>Video Uploads</th>\n",
       "      <th>Subscribers</th>\n",
       "      <th>Video views</th>\n",
       "    </tr>\n",
       "  </thead>\n",
       "  <tbody>\n",
       "    <tr>\n",
       "      <th>0</th>\n",
       "      <td>1st</td>\n",
       "      <td>A++</td>\n",
       "      <td>Zee TV</td>\n",
       "      <td>82757</td>\n",
       "      <td>18752951</td>\n",
       "      <td>20869786591</td>\n",
       "    </tr>\n",
       "    <tr>\n",
       "      <th>1</th>\n",
       "      <td>2nd</td>\n",
       "      <td>A++</td>\n",
       "      <td>T-Series</td>\n",
       "      <td>12661</td>\n",
       "      <td>61196302</td>\n",
       "      <td>47548839843</td>\n",
       "    </tr>\n",
       "    <tr>\n",
       "      <th>3</th>\n",
       "      <td>4th</td>\n",
       "      <td>A++</td>\n",
       "      <td>SET India</td>\n",
       "      <td>27323</td>\n",
       "      <td>31180559</td>\n",
       "      <td>22675948293</td>\n",
       "    </tr>\n",
       "    <tr>\n",
       "      <th>4</th>\n",
       "      <td>5th</td>\n",
       "      <td>A++</td>\n",
       "      <td>WWE</td>\n",
       "      <td>36756</td>\n",
       "      <td>32852346</td>\n",
       "      <td>26273668433</td>\n",
       "    </tr>\n",
       "    <tr>\n",
       "      <th>126</th>\n",
       "      <td>127th</td>\n",
       "      <td>A</td>\n",
       "      <td>TheEllenShow</td>\n",
       "      <td>9066</td>\n",
       "      <td>27765423</td>\n",
       "      <td>13403860667</td>\n",
       "    </tr>\n",
       "  </tbody>\n",
       "</table>\n",
       "</div>"
      ],
      "text/plain": [
       "      Rank Grade  Channel name  Video Uploads  Subscribers  Video views\n",
       "0      1st   A++        Zee TV          82757     18752951  20869786591\n",
       "1      2nd   A++      T-Series          12661     61196302  47548839843\n",
       "3      4th   A++     SET India          27323     31180559  22675948293\n",
       "4      5th   A++           WWE          36756     32852346  26273668433\n",
       "126  127th     A  TheEllenShow           9066     27765423  13403860667"
      ]
     },
     "execution_count": 35,
     "metadata": {},
     "output_type": "execute_result"
    }
   ],
   "source": [
    "df[ (df['Subscribers'] > math.floor(np.percentile(df['Subscribers'], 99))) & \n",
    "   (df['Video views'] > math.floor(np.percentile(df['Video views'], 99))) &\n",
    "  (df['Video Uploads'] > math.floor(np.percentile(df['Video Uploads'], 90))) ].head()"
   ]
  },
  {
   "cell_type": "markdown",
   "metadata": {},
   "source": [
    "## Total subscribers on these Youtube channels"
   ]
  },
  {
   "cell_type": "code",
   "execution_count": 36,
   "metadata": {},
   "outputs": [
    {
     "data": {
      "text/plain": [
       "12085240485"
      ]
     },
     "execution_count": 36,
     "metadata": {},
     "output_type": "execute_result"
    }
   ],
   "source": [
    "df['Subscribers'].sum()"
   ]
  },
  {
   "cell_type": "markdown",
   "metadata": {},
   "source": [
    "## Total Video Uploads on these Youtube channels"
   ]
  },
  {
   "cell_type": "code",
   "execution_count": 37,
   "metadata": {},
   "outputs": [
    {
     "data": {
      "text/plain": [
       "18835289"
      ]
     },
     "execution_count": 37,
     "metadata": {},
     "output_type": "execute_result"
    }
   ],
   "source": [
    "df['Video Uploads'].sum()"
   ]
  },
  {
   "cell_type": "markdown",
   "metadata": {},
   "source": [
    "## Calculate statistics gradewise"
   ]
  },
  {
   "cell_type": "code",
   "execution_count": 38,
   "metadata": {},
   "outputs": [],
   "source": [
    "grade_grp = df.groupby('Grade')"
   ]
  },
  {
   "cell_type": "code",
   "execution_count": 39,
   "metadata": {},
   "outputs": [
    {
     "data": {
      "text/html": [
       "<div>\n",
       "<style scoped>\n",
       "    .dataframe tbody tr th:only-of-type {\n",
       "        vertical-align: middle;\n",
       "    }\n",
       "\n",
       "    .dataframe tbody tr th {\n",
       "        vertical-align: top;\n",
       "    }\n",
       "\n",
       "    .dataframe thead th {\n",
       "        text-align: right;\n",
       "    }\n",
       "</style>\n",
       "<table border=\"1\" class=\"dataframe\">\n",
       "  <thead>\n",
       "    <tr style=\"text-align: right;\">\n",
       "      <th></th>\n",
       "      <th>Video Uploads</th>\n",
       "      <th>Subscribers</th>\n",
       "      <th>Video views</th>\n",
       "    </tr>\n",
       "  </thead>\n",
       "  <tbody>\n",
       "    <tr>\n",
       "      <th>count</th>\n",
       "      <td>10.000000</td>\n",
       "      <td>1.000000e+01</td>\n",
       "      <td>1.000000e+01</td>\n",
       "    </tr>\n",
       "    <tr>\n",
       "      <th>mean</th>\n",
       "      <td>37450.700000</td>\n",
       "      <td>2.228176e+07</td>\n",
       "      <td>2.119909e+10</td>\n",
       "    </tr>\n",
       "    <tr>\n",
       "      <th>std</th>\n",
       "      <td>36001.506706</td>\n",
       "      <td>1.630036e+07</td>\n",
       "      <td>1.180364e+10</td>\n",
       "    </tr>\n",
       "    <tr>\n",
       "      <th>min</th>\n",
       "      <td>373.000000</td>\n",
       "      <td>2.841811e+06</td>\n",
       "      <td>2.591830e+09</td>\n",
       "    </tr>\n",
       "    <tr>\n",
       "      <th>25%</th>\n",
       "      <td>9540.250000</td>\n",
       "      <td>1.313264e+07</td>\n",
       "      <td>1.676422e+10</td>\n",
       "    </tr>\n",
       "    <tr>\n",
       "      <th>50%</th>\n",
       "      <td>28783.000000</td>\n",
       "      <td>1.795133e+07</td>\n",
       "      <td>2.177287e+10</td>\n",
       "    </tr>\n",
       "    <tr>\n",
       "      <th>75%</th>\n",
       "      <td>65144.250000</td>\n",
       "      <td>2.819498e+07</td>\n",
       "      <td>2.436326e+10</td>\n",
       "    </tr>\n",
       "    <tr>\n",
       "      <th>max</th>\n",
       "      <td>100147.000000</td>\n",
       "      <td>6.119630e+07</td>\n",
       "      <td>4.754884e+10</td>\n",
       "    </tr>\n",
       "  </tbody>\n",
       "</table>\n",
       "</div>"
      ],
      "text/plain": [
       "       Video Uploads   Subscribers   Video views\n",
       "count      10.000000  1.000000e+01  1.000000e+01\n",
       "mean    37450.700000  2.228176e+07  2.119909e+10\n",
       "std     36001.506706  1.630036e+07  1.180364e+10\n",
       "min       373.000000  2.841811e+06  2.591830e+09\n",
       "25%      9540.250000  1.313264e+07  1.676422e+10\n",
       "50%     28783.000000  1.795133e+07  2.177287e+10\n",
       "75%     65144.250000  2.819498e+07  2.436326e+10\n",
       "max    100147.000000  6.119630e+07  4.754884e+10"
      ]
     },
     "execution_count": 39,
     "metadata": {},
     "output_type": "execute_result"
    }
   ],
   "source": [
    "grade_grp.get_group('A++').describe()"
   ]
  },
  {
   "cell_type": "markdown",
   "metadata": {},
   "source": [
    "## Analysis of channels in terms of subscribers, viewers, uploaded contents through gradewise"
   ]
  },
  {
   "cell_type": "code",
   "execution_count": 40,
   "metadata": {},
   "outputs": [
    {
     "data": {
      "text/plain": [
       "{'bodies': [<matplotlib.collections.PolyCollection at 0x206742247f0>],\n",
       " 'cbars': <matplotlib.collections.LineCollection at 0x2067422b128>,\n",
       " 'cmaxes': <matplotlib.collections.LineCollection at 0x20674224c18>,\n",
       " 'cmeans': <matplotlib.collections.LineCollection at 0x20674224780>,\n",
       " 'cmins': <matplotlib.collections.LineCollection at 0x20674224e80>}"
      ]
     },
     "execution_count": 40,
     "metadata": {},
     "output_type": "execute_result"
    },
    {
     "data": {
      "image/png": "[encoded data removed]",
      "text/plain": [
       "<Figure size 1080x1080 with 9 Axes>"
      ]
     },
     "metadata": {
      "needs_background": "light"
     },
     "output_type": "display_data"
    }
   ],
   "source": [
    "fig = plt.figure(figsize=(15,15))\n",
    "\n",
    "plt.subplot(331)\n",
    "plt.xlabel(\"Viewers range of grade A++ channels\")\n",
    "plt.xticks([])\n",
    "plt.violinplot(df['Video views'][df['Grade'] == 'A++'], showmeans=True)\n",
    "plt.subplot(332)\n",
    "plt.xticks([])\n",
    "plt.xlabel(\"Video Uploads range of grade A++ channels\")\n",
    "plt.violinplot(df['Video Uploads'][df['Grade'] == 'A++'], showmeans=True)\n",
    "plt.subplot(333)\n",
    "plt.xticks([])\n",
    "plt.xlabel(\"Subscribers range of grade A++ channels\")\n",
    "plt.violinplot(df['Subscribers'][df['Grade'] == 'A++'], showmeans=True)\n",
    "\n",
    "plt.subplot(334)\n",
    "plt.xticks([])\n",
    "plt.xlabel(\"Viewers range of grade A+ channels\")\n",
    "plt.violinplot(df['Video views'][df['Grade'] == 'A+'], showmeans=True)\n",
    "plt.subplot(335)\n",
    "plt.xticks([])\n",
    "plt.xlabel(\"Video Uploads range of grade A+ channels\")\n",
    "plt.violinplot(df['Video Uploads'][df['Grade'] == 'A+'], showmeans=True)\n",
    "plt.subplot(336)\n",
    "plt.xticks([])\n",
    "plt.xlabel(\"Subscribers range of grade A+ channels\")\n",
    "plt.violinplot(df['Subscribers'][df['Grade'] == 'A+'], showmeans=True)\n",
    "\n",
    "plt.subplot(337)\n",
    "plt.xticks([])\n",
    "plt.xlabel(\"Viewers range of grade A channels\")\n",
    "plt.violinplot(df['Video views'][df['Grade'] == 'A'], showmeans=True)\n",
    "plt.subplot(338)\n",
    "plt.xticks([])\n",
    "plt.xlabel(\"Video Uploads range of grade A channels\")\n",
    "plt.violinplot(df['Video Uploads'][df['Grade'] == 'A'], showmeans=True)\n",
    "plt.subplot(339)\n",
    "plt.xlabel(\"Subscribers range of grade A channels\")\n",
    "plt.xticks([])\n",
    "plt.violinplot(df['Subscribers'][df['Grade'] == 'A'], showmeans=True)\n"
   ]
  },
  {
   "cell_type": "code",
   "execution_count": 119,
   "metadata": {},
   "outputs": [
    {
     "data": {
      "image/png": "[encoded data removed]",
      "text/plain": [
       "<Figure size 720x432 with 1 Axes>"
      ]
     },
     "metadata": {
      "needs_background": "light"
     },
     "output_type": "display_data"
    }
   ],
   "source": [
    "fig = plt.figure(figsize=(10,6))\n",
    "plt.scatter(df['Video Uploads'][df['Grade'] == 'A++'],df['Video views'][df['Grade'] == 'A++'],color='red')\n",
    "plt.scatter(df['Video Uploads'][df['Grade'] == 'A+'],df['Video views'][df['Grade'] == 'A+'],color='blue')\n",
    "plt.scatter(df['Video Uploads'][df['Grade'] == 'A'],df['Video views'][df['Grade'] == 'A'],color='yellow')\n",
    "plt.scatter(df['Video Uploads'][df['Grade'] == 'A-'],df['Video views'][df['Grade'] == 'A-'],color='green')\n",
    "plt.scatter(df['Video Uploads'][df['Grade'] == 'B+'],df['Video views'][df['Grade'] == 'B+'],color='pink')\n",
    "\n",
    "plt.xlim([0,200000])\n",
    "plt.title(\"Grade distribution reason by analysing Video uploads and Views on the channels\")\n",
    "plt.xlabel('Video Uploads by channels')\n",
    "plt.ylabel('Viewers on channels')\n",
    "\n",
    "plt.legend(['A++','A+','A','A-','B+'])\n",
    "plt.grid()"
   ]
  }
 ],
 "metadata": {
  "kernelspec": {
   "display_name": "Python 3",
   "language": "python",
   "name": "python3"
  },
  "language_info": {
   "codemirror_mode": {
    "name": "ipython",
    "version": 3
   },
   "file_extension": ".py",
   "mimetype": "text/x-python",
   "name": "python",
   "nbconvert_exporter": "python",
   "pygments_lexer": "ipython3",
   "version": "3.5.2"
  }
 },
 "nbformat": 4,
 "nbformat_minor": 2
}
